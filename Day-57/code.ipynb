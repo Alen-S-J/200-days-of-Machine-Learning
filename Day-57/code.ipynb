{
 "cells": [
  {
   "cell_type": "code",
   "execution_count": 1,
   "metadata": {},
   "outputs": [],
   "source": [
    "import numpy as np\n",
    "import tensorflow as tf\n",
    "from tensorflow.keras.models import Sequential\n",
    "from tensorflow.keras.layers import SimpleRNN, LSTM, Dense\n"
   ]
  },
  {
   "cell_type": "code",
   "execution_count": 2,
   "metadata": {},
   "outputs": [],
   "source": [
    "# Generate synthetic time series data\n",
    "def generate_time_series(batch_size, n_steps):\n",
    "    freq1, freq2, offset1, offset2 = np.random.rand(4, batch_size, 1)\n",
    "    time = np.linspace(0, 1, n_steps)\n",
    "    series = 0.5 * np.sin((time - offset1) * (freq1 * 10 + 10))  # wave 1\n",
    "    series += 0.2 * np.sin((time - offset2) * (freq2 * 20 + 20))  # + wave 2\n",
    "    series += 0.1 * (np.random.rand(batch_size, n_steps) - 0.5)   # + noise\n",
    "    return series[..., np.newaxis].astype(np.float32)\n",
    "\n",
    "n_steps = 50\n",
    "series = generate_time_series(10000, n_steps + 1)\n",
    "X_train, y_train = series[:7000, :n_steps], series[:7000, -1]\n",
    "X_valid, y_valid = series[7000:9000, :n_steps], series[7000:9000, -1]\n",
    "X_test, y_test = series[9000:, :n_steps], series[9000:, -1]\n"
   ]
  },
  {
   "cell_type": "code",
   "execution_count": 3,
   "metadata": {},
   "outputs": [
    {
     "name": "stdout",
     "output_type": "stream",
     "text": [
      "Epoch 1/20\n",
      "219/219 [==============================] - 9s 27ms/step - loss: 0.0223 - val_loss: 0.0052\n",
      "Epoch 2/20\n",
      "219/219 [==============================] - 5s 21ms/step - loss: 0.0042 - val_loss: 0.0037\n",
      "Epoch 3/20\n",
      "219/219 [==============================] - 5s 21ms/step - loss: 0.0036 - val_loss: 0.0036\n",
      "Epoch 4/20\n",
      "219/219 [==============================] - 5s 21ms/step - loss: 0.0033 - val_loss: 0.0034\n",
      "Epoch 5/20\n",
      "219/219 [==============================] - 5s 21ms/step - loss: 0.0033 - val_loss: 0.0032\n",
      "Epoch 6/20\n",
      "219/219 [==============================] - 5s 21ms/step - loss: 0.0031 - val_loss: 0.0031\n",
      "Epoch 7/20\n",
      "219/219 [==============================] - 5s 22ms/step - loss: 0.0031 - val_loss: 0.0033\n",
      "Epoch 8/20\n",
      "219/219 [==============================] - 5s 21ms/step - loss: 0.0030 - val_loss: 0.0029\n",
      "Epoch 9/20\n",
      "219/219 [==============================] - 5s 22ms/step - loss: 0.0029 - val_loss: 0.0032\n",
      "Epoch 10/20\n",
      "219/219 [==============================] - 5s 21ms/step - loss: 0.0029 - val_loss: 0.0030\n",
      "Epoch 11/20\n",
      "219/219 [==============================] - 5s 24ms/step - loss: 0.0029 - val_loss: 0.0029\n",
      "Epoch 12/20\n",
      "219/219 [==============================] - 5s 23ms/step - loss: 0.0028 - val_loss: 0.0028\n",
      "Epoch 13/20\n",
      "219/219 [==============================] - 6s 26ms/step - loss: 0.0028 - val_loss: 0.0031\n",
      "Epoch 14/20\n",
      "219/219 [==============================] - 5s 24ms/step - loss: 0.0028 - val_loss: 0.0029\n",
      "Epoch 15/20\n",
      "219/219 [==============================] - 5s 22ms/step - loss: 0.0028 - val_loss: 0.0030\n",
      "Epoch 16/20\n",
      "219/219 [==============================] - 5s 24ms/step - loss: 0.0028 - val_loss: 0.0029\n",
      "Epoch 17/20\n",
      "219/219 [==============================] - 5s 24ms/step - loss: 0.0028 - val_loss: 0.0028\n",
      "Epoch 18/20\n",
      "219/219 [==============================] - 6s 29ms/step - loss: 0.0027 - val_loss: 0.0028\n",
      "Epoch 19/20\n",
      "219/219 [==============================] - 6s 29ms/step - loss: 0.0026 - val_loss: 0.0028\n",
      "Epoch 20/20\n",
      "219/219 [==============================] - 7s 30ms/step - loss: 0.0027 - val_loss: 0.0027\n"
     ]
    },
    {
     "data": {
      "text/plain": [
       "<keras.src.callbacks.History at 0x259ab348c50>"
      ]
     },
     "execution_count": 3,
     "metadata": {},
     "output_type": "execute_result"
    }
   ],
   "source": [
    "model_rnn = Sequential([\n",
    "    SimpleRNN(20, return_sequences=True, input_shape=[None, 1]),\n",
    "    SimpleRNN(20),\n",
    "    Dense(1)\n",
    "])\n",
    "\n",
    "model_rnn.compile(loss=\"mse\", optimizer=\"adam\")\n",
    "model_rnn.fit(X_train, y_train, epochs=20, validation_data=(X_valid, y_valid))\n"
   ]
  },
  {
   "cell_type": "code",
   "execution_count": 4,
   "metadata": {},
   "outputs": [
    {
     "name": "stdout",
     "output_type": "stream",
     "text": [
      "Epoch 1/20\n",
      "219/219 [==============================] - 19s 51ms/step - loss: 0.0483 - val_loss: 0.0270\n",
      "Epoch 2/20\n",
      "219/219 [==============================] - 11s 52ms/step - loss: 0.0180 - val_loss: 0.0106\n",
      "Epoch 3/20\n",
      "219/219 [==============================] - 10s 45ms/step - loss: 0.0069 - val_loss: 0.0039\n",
      "Epoch 4/20\n",
      "219/219 [==============================] - 10s 44ms/step - loss: 0.0037 - val_loss: 0.0029\n",
      "Epoch 5/20\n",
      "219/219 [==============================] - 12s 56ms/step - loss: 0.0030 - val_loss: 0.0027\n",
      "Epoch 6/20\n",
      "219/219 [==============================] - ETA: 0s - loss: 0.0029"
     ]
    }
   ],
   "source": [
    "model_lstm = Sequential([\n",
    "    LSTM(20, return_sequences=True, input_shape=[None, 1]),\n",
    "    LSTM(20),\n",
    "    Dense(1)\n",
    "])\n",
    "\n",
    "model_lstm.compile(loss=\"mse\", optimizer=\"adam\")\n",
    "model_lstm.fit(X_train, y_train, epochs=20, validation_data=(X_valid, y_valid))\n"
   ]
  }
 ],
 "metadata": {
  "kernelspec": {
   "display_name": "Python 3",
   "language": "python",
   "name": "python3"
  },
  "language_info": {
   "codemirror_mode": {
    "name": "ipython",
    "version": 3
   },
   "file_extension": ".py",
   "mimetype": "text/x-python",
   "name": "python",
   "nbconvert_exporter": "python",
   "pygments_lexer": "ipython3",
   "version": "3.11.5"
  }
 },
 "nbformat": 4,
 "nbformat_minor": 2
}
