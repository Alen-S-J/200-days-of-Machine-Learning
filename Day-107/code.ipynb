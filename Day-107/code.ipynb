{
 "cells": [
  {
   "cell_type": "code",
   "execution_count": 1,
   "metadata": {},
   "outputs": [],
   "source": [
    "import nltk\n",
    "from nltk import bigrams, FreqDist, MLEProbDist\n",
    "from nltk.corpus import reuters"
   ]
  },
  {
   "cell_type": "code",
   "execution_count": 2,
   "metadata": {},
   "outputs": [
    {
     "name": "stderr",
     "output_type": "stream",
     "text": [
      "[nltk_data] Downloading package reuters to\n",
      "[nltk_data]     C:\\Users\\alans\\AppData\\Roaming\\nltk_data...\n",
      "[nltk_data]   Package reuters is already up-to-date!\n"
     ]
    },
    {
     "data": {
      "text/plain": [
       "True"
      ]
     },
     "execution_count": 2,
     "metadata": {},
     "output_type": "execute_result"
    }
   ],
   "source": [
    "# Download the Reuters corpus if not already present\n",
    "nltk.download('reuters')"
   ]
  },
  {
   "cell_type": "code",
   "execution_count": 3,
   "metadata": {},
   "outputs": [],
   "source": [
    "# Tokenize the Reuters corpus\n",
    "corpus = reuters.words()\n",
    "tokens = [word.lower() for word in corpus]"
   ]
  },
  {
   "cell_type": "code",
   "execution_count": 4,
   "metadata": {},
   "outputs": [],
   "source": [
    "# Create bigrams and calculate their frequency distribution\n",
    "bi_grams = list(bigrams(tokens))\n",
    "bi_gram_freq = FreqDist(bi_grams)\n",
    "\n",
    "# Create a conditional frequency distribution and calculate probabilities\n",
    "cfd = nltk.ConditionalFreqDist(bi_grams)\n",
    "cpd = nltk.ConditionalProbDist(cfd, MLEProbDist)"
   ]
  },
  {
   "cell_type": "code",
   "execution_count": 8,
   "metadata": {},
   "outputs": [],
   "source": [
    "# Generate text using the language model\n",
    "def generate_text(seed_word, length=10):\n",
    "    current_word = seed_word\n",
    "    generated_text = [current_word]\n",
    "\n",
    "    for _ in range(length - 1):\n",
    "        next_word = cpd[current_word].generate()\n",
    "        generated_text.append(next_word)\n",
    "        current_word = next_word\n",
    "\n",
    "    return ' '.join(generated_text)\n"
   ]
  },
  {
   "cell_type": "code",
   "execution_count": 9,
   "metadata": {},
   "outputs": [
    {
     "name": "stdout",
     "output_type": "stream",
     "text": [
      "language of the shelves and certificates to \" over the first interestate bancorp & lt\n"
     ]
    }
   ],
   "source": [
    "# Generate text starting with a seed word\n",
    "seed_word = 'language'\n",
    "generated_text = generate_text(seed_word, length=15)\n",
    "print(generated_text)"
   ]
  }
 ],
 "metadata": {
  "kernelspec": {
   "display_name": "Python 3",
   "language": "python",
   "name": "python3"
  },
  "language_info": {
   "codemirror_mode": {
    "name": "ipython",
    "version": 3
   },
   "file_extension": ".py",
   "mimetype": "text/x-python",
   "name": "python",
   "nbconvert_exporter": "python",
   "pygments_lexer": "ipython3",
   "version": "3.11.5"
  }
 },
 "nbformat": 4,
 "nbformat_minor": 2
}
