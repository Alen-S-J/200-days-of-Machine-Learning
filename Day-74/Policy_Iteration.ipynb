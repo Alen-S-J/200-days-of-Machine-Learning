{
 "cells": [
  {
   "cell_type": "code",
   "execution_count": 1,
   "metadata": {},
   "outputs": [],
   "source": [
    "import numpy as np\n"
   ]
  },
  {
   "cell_type": "code",
   "execution_count": 2,
   "metadata": {},
   "outputs": [],
   "source": [
    "\n",
    "# Define transition probabilities, rewards, and discount factor\n",
    "num_states = 16  # Assuming a 4x4 grid\n",
    "num_actions = 4  # Up, Down, Left, Right\n",
    "\n",
    "# Initialize transition probabilities\n",
    "transition_probs = np.zeros((num_states, num_actions, num_states))\n",
    "\n",
    "# Fill in transition probabilities based on the grid world dynamics\n",
    "for s in range(num_states):\n",
    "    for a in range(num_actions):\n",
    "        if a == 0:  # Up\n",
    "            next_state = max(0, s - 4)  # Assuming a 4x4 grid\n",
    "        elif a == 1:  # Down\n",
    "            next_state = min(15, s + 4)  # Assuming a 4x4 grid\n",
    "        elif a == 2:  # Left\n",
    "            next_state = max(0, s - 1) if s % 4 != 0 else s  # Assuming a 4x4 grid\n",
    "        else:  # Right\n",
    "            next_state = min(15, s + 1) if (s + 1) % 4 != 0 else s  # Assuming a 4x4 grid\n",
    "\n",
    "        transition_probs[s][a][next_state] = 1.0  # Deterministic transitions\n",
    "\n",
    "\n"
   ]
  },
  {
   "cell_type": "code",
   "execution_count": 3,
   "metadata": {},
   "outputs": [],
   "source": [
    "# Define rewards for each state\n",
    "rewards = np.zeros(num_states)\n",
    "rewards[15] = 1  # Setting the reward for the terminal state\n",
    "\n",
    "# Discount factor\n",
    "discount_factor = 0.9  # Adjust as needed\n",
    "\n",
    "# Policy Iteration Algorithm\n",
    "def policy_evaluation(policy, num_states, num_actions, transition_probs, rewards, discount_factor, epsilon=1e-6):\n",
    "    V = np.zeros(num_states)\n",
    "    while True:\n",
    "        delta = 0\n",
    "        for s in range(num_states):\n",
    "            v = V[s]\n",
    "            action = np.argmax(policy[s])  # Choose action according to the policy\n",
    "            value = 0\n",
    "            for s_prime in range(num_states):\n",
    "                value += transition_probs[s][action][s_prime] * (rewards[s] + discount_factor * V[s_prime])\n",
    "            V[s] = value\n",
    "            delta = max(delta, abs(v - V[s]))\n",
    "        if delta < epsilon:\n",
    "            break\n",
    "    return V\n",
    "\n",
    "def policy_improvement(V, num_states, num_actions, transition_probs, rewards, discount_factor):\n",
    "    policy_stable = True\n",
    "    policy = np.zeros((num_states, num_actions))\n",
    "    for s in range(num_states):\n",
    "        old_action = np.argmax(policy[s])\n",
    "        action_values = np.zeros(num_actions)\n",
    "        for a in range(num_actions):\n",
    "            for s_prime in range(num_states):\n",
    "                action_values[a] += transition_probs[s][a][s_prime] * (rewards[s] + discount_factor * V[s_prime])\n",
    "        best_action = np.argmax(action_values)\n",
    "        if old_action != best_action:\n",
    "            policy_stable = False\n",
    "        policy[s][best_action] = 1.0\n",
    "\n",
    "    return policy, policy_stable\n",
    "\n",
    "def policy_iteration(num_states, num_actions, transition_probs, rewards, discount_factor):\n",
    "    policy = np.ones((num_states, num_actions)) / num_actions  # Initialize with a uniform policy\n",
    "\n",
    "    while True:\n",
    "        V = policy_evaluation(policy, num_states, num_actions, transition_probs, rewards, discount_factor)\n",
    "        new_policy, policy_stable = policy_improvement(V, num_states, num_actions, transition_probs, rewards, discount_factor)\n",
    "        if policy_stable:\n",
    "            break\n",
    "        policy = new_policy\n",
    "\n",
    "    return policy, V\n"
   ]
  },
  {
   "cell_type": "code",
   "execution_count": null,
   "metadata": {},
   "outputs": [],
   "source": [
    "# Usage\n",
    "optimal_policy, optimal_value_function = policy_iteration(num_states, num_actions, transition_probs, rewards, discount_factor)\n",
    "\n",
    "print(\"Optimal Policy:\")\n",
    "print(optimal_policy)\n",
    "print(\"\\nOptimal Value Function:\")\n",
    "print(optimal_value_function)\n"
   ]
  }
 ],
 "metadata": {
  "kernelspec": {
   "display_name": "Python 3",
   "language": "python",
   "name": "python3"
  },
  "language_info": {
   "codemirror_mode": {
    "name": "ipython",
    "version": 3
   },
   "file_extension": ".py",
   "mimetype": "text/x-python",
   "name": "python",
   "nbconvert_exporter": "python",
   "pygments_lexer": "ipython3",
   "version": "3.11.5"
  }
 },
 "nbformat": 4,
 "nbformat_minor": 2
}
