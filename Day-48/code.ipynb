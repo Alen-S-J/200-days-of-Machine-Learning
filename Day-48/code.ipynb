{
 "cells": [
  {
   "cell_type": "code",
   "execution_count": 29,
   "metadata": {},
   "outputs": [
    {
     "name": "stdout",
     "output_type": "stream",
     "text": [
      "Epoch 1/20\n",
      "1562/1562 [==============================] - 85s 53ms/step - loss: 1.7920 - accuracy: 0.0987 - val_loss: 1.6700 - val_accuracy: 0.0456\n",
      "Epoch 2/20\n",
      "1562/1562 [==============================] - 117s 75ms/step - loss: 1.5420 - accuracy: 0.0949 - val_loss: 1.3041 - val_accuracy: 0.0810\n",
      "Epoch 3/20\n",
      "1562/1562 [==============================] - 96s 62ms/step - loss: 1.4311 - accuracy: 0.0962 - val_loss: 1.1793 - val_accuracy: 0.0838\n",
      "Epoch 4/20\n",
      "1562/1562 [==============================] - 85s 55ms/step - loss: 1.3687 - accuracy: 0.0994 - val_loss: 1.1311 - val_accuracy: 0.0931\n",
      "Epoch 5/20\n",
      "1562/1562 [==============================] - 67s 43ms/step - loss: 1.3158 - accuracy: 0.0995 - val_loss: 1.0756 - val_accuracy: 0.0891\n",
      "Epoch 6/20\n",
      "1562/1562 [==============================] - 67s 43ms/step - loss: 1.2724 - accuracy: 0.0981 - val_loss: 1.0819 - val_accuracy: 0.0877\n",
      "Epoch 7/20\n",
      "1562/1562 [==============================] - 67s 43ms/step - loss: 1.2475 - accuracy: 0.1016 - val_loss: 1.0746 - val_accuracy: 0.0948\n",
      "Epoch 8/20\n",
      "1562/1562 [==============================] - 66s 42ms/step - loss: 1.2132 - accuracy: 0.0995 - val_loss: 0.9994 - val_accuracy: 0.1020\n",
      "Epoch 9/20\n",
      "1562/1562 [==============================] - 64s 41ms/step - loss: 1.1906 - accuracy: 0.0996 - val_loss: 1.0049 - val_accuracy: 0.0908\n",
      "Epoch 10/20\n",
      "1562/1562 [==============================] - 67s 43ms/step - loss: 1.1666 - accuracy: 0.1001 - val_loss: 0.9599 - val_accuracy: 0.0841\n",
      "Epoch 11/20\n",
      "1562/1562 [==============================] - 66s 42ms/step - loss: 1.1520 - accuracy: 0.1012 - val_loss: 1.0633 - val_accuracy: 0.0932\n",
      "Epoch 12/20\n",
      "1562/1562 [==============================] - 64s 41ms/step - loss: 1.1413 - accuracy: 0.1006 - val_loss: 0.9368 - val_accuracy: 0.0798\n",
      "Epoch 13/20\n",
      "1562/1562 [==============================] - 63s 40ms/step - loss: 1.1236 - accuracy: 0.0988 - val_loss: 0.9213 - val_accuracy: 0.1050\n",
      "Epoch 14/20\n",
      "1562/1562 [==============================] - 63s 40ms/step - loss: 1.1093 - accuracy: 0.1006 - val_loss: 1.1019 - val_accuracy: 0.0776\n",
      "Epoch 15/20\n",
      "1562/1562 [==============================] - 64s 41ms/step - loss: 1.0969 - accuracy: 0.1002 - val_loss: 1.0288 - val_accuracy: 0.1079\n",
      "Epoch 16/20\n",
      "1562/1562 [==============================] - 64s 41ms/step - loss: 1.0868 - accuracy: 0.1018 - val_loss: 0.9229 - val_accuracy: 0.1248\n",
      "Epoch 17/20\n",
      "1562/1562 [==============================] - 66s 42ms/step - loss: 1.0776 - accuracy: 0.1011 - val_loss: 0.9382 - val_accuracy: 0.1133\n",
      "Epoch 18/20\n",
      "1562/1562 [==============================] - 142s 91ms/step - loss: 1.0716 - accuracy: 0.1015 - val_loss: 0.9005 - val_accuracy: 0.0901\n",
      "Epoch 19/20\n",
      "1562/1562 [==============================] - 138s 88ms/step - loss: 1.0650 - accuracy: 0.1012 - val_loss: 0.9256 - val_accuracy: 0.1148\n",
      "Epoch 20/20\n",
      "1562/1562 [==============================] - 156s 100ms/step - loss: 1.0526 - accuracy: 0.1010 - val_loss: 0.9329 - val_accuracy: 0.0856\n",
      "313/313 [==============================] - 5s 16ms/step - loss: 0.9329 - accuracy: 0.0856\n",
      "Test accuracy: 0.08560000360012054\n"
     ]
    }
   ],
   "source": [
    "import os\n",
    "import numpy as np\n",
    "import tensorflow as tf\n",
    "from tensorflow.keras.models import Sequential\n",
    "from tensorflow.keras.layers import Conv2D, MaxPooling2D, Flatten, Dense\n",
    "from tensorflow.keras.preprocessing.image import img_to_array, load_img\n",
    "\n",
    "# Load CIFAR-10 dataset\n",
    "(train_images, train_labels), (test_images, test_labels) = tf.keras.datasets.cifar10.load_data()\n",
    "\n",
    "# Normalize pixel values to be between 0 and 1\n",
    "train_images, test_images = train_images / 255.0, test_images / 255.0\n",
    "\n",
    "# Define the CNN model\n",
    "model = Sequential([\n",
    "    Conv2D(32, (3, 3), activation='relu', input_shape=(32, 32, 3)),\n",
    "    MaxPooling2D(2, 2),\n",
    "    Conv2D(64, (3, 3), activation='relu'),\n",
    "    MaxPooling2D(2, 2),\n",
    "    Conv2D(128, (3, 3), activation='relu'),\n",
    "    MaxPooling2D(2, 2),\n",
    "    Flatten(),\n",
    "    Dense(512, activation='relu'),\n",
    "    Dense(10, activation='softmax')\n",
    "])\n",
    "\n",
    "model.compile(optimizer='adam', loss='sparse_categorical_crossentropy', metrics=['accuracy'])\n",
    "\n",
    "# Create data generator with augmentation\n",
    "datagen = ImageDataGenerator(\n",
    "    rotation_range=40,\n",
    "    width_shift_range=0.2,\n",
    "    height_shift_range=0.2,\n",
    "    shear_range=0.2,\n",
    "    zoom_range=0.2,\n",
    "    horizontal_flip=True,\n",
    "    fill_mode='nearest'\n",
    ")\n",
    "\n",
    "# Fit the data generator on the training set\n",
    "datagen.fit(train_images)\n",
    "\n",
    "# Train the model using augmented data\n",
    "model.fit(datagen.flow(train_images, train_labels, batch_size=32),\n",
    "          steps_per_epoch=len(train_images) // 32, epochs=20,\n",
    "          validation_data=(test_images, test_labels))\n",
    "\n",
    "# Evaluate the model on test set\n",
    "test_loss, test_acc = model.evaluate(test_images, test_labels)\n",
    "print(f'Test accuracy: {test_acc}')\n"
   ]
  },
  {
   "cell_type": "code",
   "execution_count": 33,
   "metadata": {},
   "outputs": [
    {
     "name": "stdout",
     "output_type": "stream",
     "text": [
      "1/1 [==============================] - 0s 281ms/step\n",
      "Actual Label: cat\n",
      "Predicted Label: cat\n"
     ]
    }
   ],
   "source": [
    "# Choose a sample image from the test set for prediction\n",
    "sample_image = test_images[0]  # Change this index to select a different image\n",
    "sample_label = test_labels[0]  # Corresponding label\n",
    "\n",
    "# Reshape the image for prediction (as the model expects a batch)\n",
    "input_image = np.expand_dims(sample_image, axis=0)\n",
    "\n",
    "# Make predictions\n",
    "predictions = model.predict(input_image)\n",
    "\n",
    "# Get the predicted class (assuming the model uses softmax activation in the output layer)\n",
    "predicted_class = np.argmax(predictions)\n",
    "\n",
    "# Define class names (for CIFAR-10)\n",
    "class_names = ['airplane', 'automobile', 'bird', 'cat', 'deer', 'dog', 'frog', 'horse', 'ship', 'truck']\n",
    "\n",
    "# Print results\n",
    "print(f\"Actual Label: {class_names[sample_label[0]]}\")\n",
    "print(f\"Predicted Label: {class_names[predicted_class]}\")"
   ]
  }
 ],
 "metadata": {
  "kernelspec": {
   "display_name": "Python 3",
   "language": "python",
   "name": "python3"
  },
  "language_info": {
   "codemirror_mode": {
    "name": "ipython",
    "version": 3
   },
   "file_extension": ".py",
   "mimetype": "text/x-python",
   "name": "python",
   "nbconvert_exporter": "python",
   "pygments_lexer": "ipython3",
   "version": "3.11.5"
  }
 },
 "nbformat": 4,
 "nbformat_minor": 2
}
