{
 "cells": [
  {
   "cell_type": "code",
   "execution_count": 1,
   "metadata": {},
   "outputs": [],
   "source": [
    "import numpy as np"
   ]
  },
  {
   "cell_type": "code",
   "execution_count": 2,
   "metadata": {},
   "outputs": [],
   "source": [
    "data = np.array([[1, 2, 3],$$n",
    "                 [4, 5, 6],$$n",
    "                 [7, 8, 9]])"
   ]
  },
  {
   "cell_type": "code",
   "execution_count": 3,
   "metadata": {},
   "outputs": [
    {
     "name": "stdout",
     "output_type": "stream",
     "text": [
      "calulated mean [4. 5. 6.]$$n"
     ]
    }
   ],
   "source": [
    "$$n",
    "mean = np.mean(data, axis=0)$$n",
    "print($$"calulated mean$$",mean)"
   ]
  },
  {
   "cell_type": "code",
   "execution_count": 4,
   "metadata": {},
   "outputs": [
    {
     "name": "stdout",
     "output_type": "stream",
     "text": [
      "calculated covariance matrix: [[9. 9. 9.]$$n",
      " [9. 9. 9.]$$n",
      " [9. 9. 9.]]$$n"
     ]
    }
   ],
   "source": [
    "cov_matrix = np.cov(data, rowvar=False)$$n",
    "print('calculated covariance matrix:',cov_matrix)"
   ]
  },
  {
   "cell_type": "code",
   "execution_count": 5,
   "metadata": {},
   "outputs": [],
   "source": [
    "eigenvalues, eigenvectors = np.linalg.eig(cov_matrix)"
   ]
  },
  {
   "cell_type": "code",
   "execution_count": 7,
   "metadata": {},
   "outputs": [
    {
     "name": "stdout",
     "output_type": "stream",
     "text": [
      "[[-0.81649658  0.57735027]$$n",
      " [ 0.40824829  0.57735027]$$n",
      " [ 0.40824829  0.57735027]]$$n"
     ]
    }
   ],
   "source": [
    "k = 2  # For example, select the top 2 components$$n",
    "top_eigenvectors = eigenvectors[:, :k]$$n",
    "print(top_eigenvectors)"
   ]
  },
  {
   "cell_type": "code",
   "execution_count": 8,
   "metadata": {},
   "outputs": [],
   "source": [
    "transformed_data = np.dot(data - mean, top_eigenvectors)"
   ]
  },
  {
   "cell_type": "code",
   "execution_count": 9,
   "metadata": {},
   "outputs": [
    {
     "name": "stdout",
     "output_type": "stream",
     "text": [
      "[[ 1.11022302e-16 -5.19615242e+00]$$n",
      " [ 0.00000000e+00  0.00000000e+00]$$n",
      " [-1.11022302e-16  5.19615242e+00]]$$n"
     ]
    }
   ],
   "source": [
    "print(transformed_data)"
   ]
  }
 ],
 "metadata": {
  "kernelspec": {
   "display_name": "Python 3",
   "language": "python",
   "name": "python3"
  },
  "language_info": {
   "codemirror_mode": {
    "name": "ipython",
    "version": 3
   },
   "file_extension": ".py",
   "mimetype": "text/x-python",
   "name": "python",
   "nbconvert_exporter": "python",
   "pygments_lexer": "ipython3",
   "version": "3.11.5"
  }
 },
 "nbformat": 4,
 "nbformat_minor": 2
}
