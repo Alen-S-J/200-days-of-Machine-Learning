{
 "cells": [
  {
   "cell_type": "markdown",
   "metadata": {},
   "source": [
    "# Sentiment Analysis of Movie Reviews pt.2 -- LSA\n",
    "\n",
    " I made a sentiment analysis of movie reviews from the dataset of reviews on imdb. In the last part, I first preprocessed the text of all reviews into lowercase stemmed stokens with numbers and punctuations stripped. Then, I used TF-IDF as word-embedding to vectorize the all words into sparse matrix. Afterwards, I ran several selected machine-learning models to classify the features, the sparse matrix, and evaluated their performances.\n",
    "\n",
    "However, this was just the basics of sentiment analysis. Because we have a relatively small dataset (1000 entries), we do not need to consider the dimension of features. The dimension of features last time was 2317, as shown below:"
   ]
  },
  {
   "cell_type": "code",
   "execution_count": 5,
   "metadata": {},
   "outputs": [
    {
     "data": {
      "text/plain": [
       "2317"
      ]
     },
     "execution_count": 5,
     "metadata": {},
     "output_type": "execute_result"
    }
   ],
   "source": [
    "X_train.get_shape()[1]"
   ]
  },
  {
   "cell_type": "markdown",
   "metadata": {},
   "source": [
    "However, what if we have a large dataset, like a million entries? The size of 1,000,000 x 2,317 is a super large for a  sparse matrix. It requires a strong computing power to store it and run it. It can also be exceedingly time-consuming. Therefore, we need to reduce the dimensionality of features and speed up our machine-learning process with a little loss of accuracy. In this part, I will conduct LSA on the Sentiment Analysis.\n",
    "## LSA and SVD\n",
    "Latent Semantic Analysis (LSA) is a common word-embedding method used in Topic Modelling. On the other hand, it is also useful for text classification. In short, LSA is to perform Singular Value Decomposition(SVD) on the matrix after TD-IDF vectorization. If you are not familiar with TF-IDF, please refer to the Pt.1 of this study. SVD is a powerful matrix decomposition method used in Natural Language Processing. In NLP, we can always encounter a huge amount of dimension for our features. We can use SVD to select a small amount of those dimensions to have a truncated matrix to process machine-learning. (Here is an informative [tutorial of SVD](https://web.mit.edu/be.400/www/SVD/Singular_Value_Decomposition.htm))\n",
    "\n",
    "To briefly explain SVD, we can decompose the matrix A as\n",
    "\n",
    "$A = USV^T$\n",
    "\n",
    "The original matrix $A$ is a $nxp$ matrix. $U$ is an $nxn$ matrix, containing n left singular vectors. $V$ is a $pxp$ matrix, containing p right singular vectors. $S$ is an $nxp$ diagonal matrix containing singular values on its diagonal. The rest elements off the diagonal are 0. The singular values $\\sigma$ are lined up according to its value: $\\sigma 1$ > $\\sigma 2$ > ... > $\\sigma k$\n",
    "\n",
    "Among all those singular values, we can choose a small number of singular values we want. For example, I will choose first 100 among all 2317 singular values in this case, in order to significantly reduce the dimensionality. We will remain the first 100 left singular vectors in $U_k$, the first 100 singular values in the singular matrix $S_k$, and the first 100 right singular vectors in $V_k$, and multiply them to get the truncated matrix $A_k$ as:\n",
    "\n",
    "$U_k S_k V_k^T = A_k$\n",
    "\n",
    "In Python, we can use scikit-learn to get the truncated SVD, and normalize it to tranform the feature matrix. Here is the code:"
   ]
  },
  {
   "cell_type": "code",
   "execution_count": 9,
   "metadata": {},
   "outputs": [],
   "source": [
    "from sklearn.decomposition import TruncatedSVD\n",
    "from sklearn.pipeline import make_pipeline\n",
    "from sklearn.preprocessing import MinMaxScaler\n",
    "\n",
    "# performance SVD\n",
    "svd = TruncatedSVD(100)\n",
    "# performance LSA and normalization\n",
    "lsa = make_pipeline(svd, MinMaxScaler())\n",
    "X_lsa = lsa.fit_transform(X)"
   ]
  },
  {
   "cell_type": "markdown",
   "metadata": {},
   "source": [
    "We can integrate this snippet of code into the preprocess method used in [part.1](https://charliezcr.github.io/sa_p1.html) and transform the dataset. Here is the 2.0 version of preprocess function:"
   ]
  },
  {
   "cell_type": "code",
   "execution_count": 40,
   "metadata": {},
   "outputs": [],
   "source": [
    "from nltk.stem import PorterStemmer    # stem the words\n",
    "from nltk.tokenize import word_tokenize # tokenize the sentences into tokens\n",
    "from string import punctuation\n",
    "from sklearn.feature_extraction.text import TfidfVectorizer # vectorize the texts\n",
    "from sklearn.model_selection import train_test_split # split the testing and training sets\n",
    "from sklearn.decomposition import TruncatedSVD # SVD\n",
    "from sklearn.pipeline import make_pipeline\n",
    "from sklearn.preprocessing import MinMaxScaler\n",
    "\n",
    "def preprocess(path):\n",
    "    '''generate cleaned dataset\n",
    "    \n",
    "    Args:\n",
    "        path(string): the path of the file of testing data\n",
    "\n",
    "    Returns:\n",
    "        X_train (list): the list of features of training data\n",
    "        X_test (list): the list of features of test data\n",
    "        y_train (list): the list of targets of training data ('1' or '0')\n",
    "        y_test (list): the list of targets of training data ('1' or '0')\n",
    "    '''\n",
    "    \n",
    "    # text preprocessing: iterate through the original file and \n",
    "    with open(path, encoding='utf-8') as file:\n",
    "        # record all words and its label\n",
    "        labels = []\n",
    "        preprocessed = []\n",
    "        for line in file:\n",
    "            # get sentence and label\n",
    "            sentence, label = line.strip('\\n').split('\\t')\n",
    "            labels.append(int(label))\n",
    "            \n",
    "            # remove punctuation and numbers\n",
    "            for ch in punctuation+'0123456789':\n",
    "                sentence = sentence.replace(ch,' ')\n",
    "            # tokenize the words and stem them\n",
    "            words = []\n",
    "            for w in word_tokenize(sentence):\n",
    "                words.append(PorterStemmer().stem(w))\n",
    "            preprocessed.append(' '.join(words))\n",
    "    \n",
    "    # vectorize the texts by tfidf\n",
    "    vectorizer = TfidfVectorizer(stop_words='english', sublinear_tf=True)\n",
    "    X_tfidf = vectorizer.fit_transform(preprocessed)\n",
    "    svd = TruncatedSVD(100)\n",
    "    # perform lsa\n",
    "    lsa = make_pipeline(svd, MinMaxScaler())\n",
    "    X_lsa = lsa.fit_transform(X_tfidf)\n",
    "    # split the testing and training sets\n",
    "    X_train, X_test, y_train, y_test = train_test_split(X_lsa, labels, test_size=0.2)\n",
    "    return X_train, X_test, y_train, y_test\n",
    "\n",
    "X_train, X_test, y_train, y_test = preprocess('imdb_labelled.txt')"
   ]
  },
  {
   "cell_type": "markdown",
   "metadata": {},
   "source": [
    "## Performance\n",
    "We can apply the data transfromed by LSA to the machine-learning models and monitor the change in their performance. Remember that in part.1, the result for Linear Discriminant Analysis was:\n",
    ">Time cost of LinearDiscriminantAnalysis(): 0.79s<br>\n",
    "The accuracy of LinearDiscriminantAnalysis(): 0.71\n",
    "\n",
    "Now, we have our data's dimensionality significantly reduced. We should expect the time cost to be drastically improved this time. Also, we do not even need to make the data dense this time!"
   ]
  },
  {
   "cell_type": "code",
   "execution_count": 37,
   "metadata": {},
   "outputs": [
    {
     "name": "stdout",
     "output_type": "stream",
     "text": [
      "Time cost of LinearDiscriminantAnalysis(): 0.05s\n",
      "The accuracy of LinearDiscriminantAnalysis(): 0.73\n",
      "\n"
     ]
    }
   ],
   "source": [
    "from sklearn.discriminant_analysis import LinearDiscriminantAnalysis\n",
    "classify(LinearDiscriminantAnalysis())"
   ]
  },
  {
   "cell_type": "markdown",
   "metadata": {},
   "source": [
    "We just reduced the time cost from 0.79s to 0.05s. This is a giant leap as for speed!\n",
    "\n",
    "Remember that last time, we also tried Logistic Regression, MultinomialNB, SVC, SGD and MLP Classifiers. The performance was:\n",
    ">Time cost of LogisticRegression(): 0.03s<br>\n",
    "The accuracy of LogisticRegression(): 0.825<br>\n",
    "<br>\n",
    "Time cost of MultinomialNB(): 0.0s<br>\n",
    "The accuracy of MultinomialNB(): 0.825<br>\n",
    "<br>\n",
    "Time cost of SVC(): 0.09s<br>\n",
    "The accuracy of SVC(): 0.835<br>\n",
    "<br>\n",
    "Time cost of SGDClassifier(): 0.0s<br>\n",
    "The accuracy of SGDClassifier(): 0.82<br>\n",
    "<br>\n",
    "Time cost of MLPClassifier(): 3.47s<br>\n",
    "The accuracy of MLPClassifier(): 0.81<br>\n",
    "\n",
    "We can try all those models and observe their performance:"
   ]
  },
  {
   "cell_type": "code",
   "execution_count": 41,
   "metadata": {},
   "outputs": [
    {
     "name": "stdout",
     "output_type": "stream",
     "text": [
      "Time cost of LogisticRegression(): 0.08s\n",
      "The accuracy of LogisticRegression(): 0.76\n",
      "\n",
      "Time cost of MultinomialNB(): 0.0s\n",
      "The accuracy of MultinomialNB(): 0.775\n",
      "\n",
      "Time cost of SVC(): 0.08s\n",
      "The accuracy of SVC(): 0.745\n",
      "\n",
      "Time cost of SGDClassifier(): 0.01s\n",
      "The accuracy of SGDClassifier(): 0.75\n",
      "\n",
      "Time cost of MLPClassifier(): 0.68s\n",
      "The accuracy of MLPClassifier(): 0.77\n",
      "\n"
     ]
    }
   ],
   "source": [
    "from sklearn.linear_model import LogisticRegression\n",
    "from sklearn.naive_bayes import MultinomialNB\n",
    "from sklearn.svm import SVC\n",
    "from sklearn.linear_model import SGDClassifier\n",
    "from sklearn.neural_network import MLPClassifier\n",
    "for model in [LogisticRegression(), MultinomialNB(), SVC(), SGDClassifier(), MLPClassifier()]:\n",
    "    classify(model)"
   ]
  },
  {
   "cell_type": "markdown",
   "metadata": {},
   "source": [
    "We can see that even though the accuracy decreases a little for all those model, the speed is accelerated. The Time cost is significantly reduced for the complicated model MLP classifier. Therefore, MLP classifer and Linear Discriminant Classifier can be included in the ensemble classifier."
   ]
  },
  {
   "cell_type": "code",
   "execution_count": 49,
   "metadata": {},
   "outputs": [
    {
     "name": "stderr",
     "output_type": "stream",
     "text": [
      "/Library/Frameworks/Python.framework/Versions/3.9/lib/python3.9/site-packages/sklearn/neural_network/_multilayer_perceptron.py:614: ConvergenceWarning: Stochastic Optimizer: Maximum iterations (200) reached and the optimization hasn't converged yet.\n",
      "  warnings.warn(\n"
     ]
    },
    {
     "name": "stdout",
     "output_type": "stream",
     "text": [
      "Time cost: 1.03s\n",
      "Accuracy: 0.78\n",
      "\n"
     ]
    },
    {
     "data": {
      "image/png": "[encoded data removed]",
      "text/plain": [
       "<Figure size 432x288 with 2 Axes>"
      ]
     },
     "metadata": {
      "needs_background": "light"
     },
     "output_type": "display_data"
    }
   ],
   "source": [
    "ensemble([LinearDiscriminantAnalysis(),LogisticRegression(),MultinomialNB(),SVC(),SGDClassifier(),MLPClassifier()])"
   ]
  }
 ],
 "metadata": {
  "kernelspec": {
   "display_name": "Python 3",
   "language": "python",
   "name": "python3"
  },
  "language_info": {
   "codemirror_mode": {
    "name": "ipython",
    "version": 3
   },
   "file_extension": ".py",
   "mimetype": "text/x-python",
   "name": "python",
   "nbconvert_exporter": "python",
   "pygments_lexer": "ipython3",
   "version": "3.9.0"
  }
 },
 "nbformat": 4,
 "nbformat_minor": 4
}
