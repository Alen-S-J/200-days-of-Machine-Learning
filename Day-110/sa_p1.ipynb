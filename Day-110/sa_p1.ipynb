{
 "cells": [
  {
   "cell_type": "markdown",
   "metadata": {},
   "source": [
    "# Sentiment Analysis of Movie Reviews pt.1 -- Basics\n",
    "\n",
    "When you have a large amount of movie reviews, how can you know whether they are complments or criticisms? Since the amount of dataset is large, you cannot annotate them one by one, but need to use natural language processing tools to classify the sentiment of the text. Especially in Python, powerful packages like nltk and scikit-learn can help us do the text classification. In this project, I made a sentiment analysis of movie reviews from the dataset of [reviews on imdb](https://archive.ics.uci.edu/ml/datasets/Sentiment+Labelled+Sentences) from the UCI Machine Learning Repository's Sentiment Labelled Sentences Data Set.\n",
    "\n",
    "## Text Preprocessing\n",
    "In this dataset, there are 1000 movie reviews, including 500 positive (compliments) and 500 negative (criticisms). For example, *'A very, very, very slow-moving, aimless movie about a distressed, drifting young man.'* is marked as a negative review. \n",
    "\n",
    "However, in the raw text, we can see many words do not contain important semantics. The numbers and punctuations appear a lot in our raw text but has do not express positive or negative sentiment. Therefore, we need to strip numbers and punctuations.\n",
    "\n",
    "To further clean the data, we need to stem the words, so that words with different inflections can be counted as same tokens, because they convey the same semantics. e.g. 'distress' and 'distressed' will both be stemmed as 'distress'.\n",
    "\n",
    "After text preprocessing, we have 2 list of data. 'labels' is the list of targets of our classification. 'preprocessed' is the features-to-be of classification. For sentences in 'preprocessed', we translate the raw text into completely unreadable text. For example, *'A very, very, very slow-moving, aimless movie about a distressed, drifting young man.'* is to preprocessed as *'a veri veri veri slow move aimless movi about a distress drift young man'*\n",
    "\n",
    "You may wonder that: we translate the raw text into these unreadable text because we want each token to convey important semantics. Then why not strip the stopwords because they do not convey important semantics but are very frequent, such as 'a' and 'about'? In the next feature extraction section, we are going to use TF-IDF to take care of those stop words\n",
    "\n",
    "## Feature Extraction\n",
    "After text preprocessing, we are going to extract the features from our cleaned data. We are going to use TF-IDF vectorizer as our word embedding to vectorize and normalize the text. \n",
    "\n",
    "TF-IDF stands for term frequency-inverse document frequency. It evaluates the importance of a token to a document in a corpus. TF-IDF makes the data our model because it normalizes the term frequency, or simply the word count. It also reduces the noise of stop words.\n",
    "    \n",
    "We are going to take a variant of TF-IDF in this case. The formula for regular TF-IDF is [here](http://www.tfidf.com/). Unlike the orgininal TF-IDF, we change to use sublinear_tf, replacing TF with WF = 1 + log(TF). This variant addresses the problem that [\"twenty occurrences of a term in a document do not truly carry twenty times the significance of a single occurrence.\"](https://nlp.stanford.edu/IR-book/html/htmledition/sublinear-tf-scaling-1.html) For example, in the example of our first review *'A very, very, very slow-moving, aimless movie about a distressed, drifting young man.'* 'very' appeared three times. Therefore, for our dataset, we need to apply Sublinear TF scaling. It drastically improves the accuracy of our models' prediction later.\n",
    "\n",
    "After feature extraction, we have Tf-IDF-weighted document-term matrix stored in Compressed Sparse Row format. Each target is the sentiment of this sentence. '1' means positive and '0' means negative. But to make the data fit our model, we need to split our data into features and targets. Scikit-learn's train_test_split to randomly shuffle the data and split them into training set and testing set. In this specific case, I will use 1/5 of the whole dataset of testing set and the rest 4/5 as training set. Here is the code for the whole preprocessing process:"
   ]
  },
  {
   "cell_type": "code",
   "execution_count": 1,
   "metadata": {},
   "outputs": [],
   "source": [
    "from nltk.stem import PorterStemmer    # stem the words\n",
    "from nltk.tokenize import word_tokenize # tokenize the sentences into tokens\n",
    "from string import punctuation\n",
    "from sklearn.feature_extraction.text import TfidfVectorizer # vectorize the texts\n",
    "from sklearn.model_selection import train_test_split # split the testing and training sets\n",
    "\n",
    "def preprocess(path):\n",
    "    '''generate cleaned dataset\n",
    "    \n",
    "    Args:\n",
    "        path(string): the path of the file of testing data\n",
    "\n",
    "    Returns:\n",
    "        X_train (list): the list of features of training data\n",
    "        X_test (list): the list of features of test data\n",
    "        y_train (list): the list of targets of training data ('1' or '0')\n",
    "        y_test (list): the list of targets of training data ('1' or '0')\n",
    "    '''\n",
    "    \n",
    "    # text preprocessing: iterate through the original file and \n",
    "    with open(path, encoding='utf-8') as file:\n",
    "        # record all words and its label\n",
    "        labels = []\n",
    "        preprocessed = []\n",
    "        for line in file:\n",
    "            # get sentence and label\n",
    "            sentence, label = line.strip('\\n').split('\\t')\n",
    "            labels.append(int(label))\n",
    "            \n",
    "            # remove punctuation and numbers\n",
    "            for ch in punctuation+'0123456789':\n",
    "                sentence = sentence.replace(ch,' ')\n",
    "            # tokenize the words and stem them\n",
    "            words = []\n",
    "            for w in word_tokenize(sentence):\n",
    "                words.append(PorterStemmer().stem(w))\n",
    "            preprocessed.append(' '.join(words))\n",
    "    \n",
    "    # vectorize the texts\n",
    "    vectorizer = TfidfVectorizer(stop_words='english', sublinear_tf=True)\n",
    "    X = vectorizer.fit_transform(preprocessed)\n",
    "    # split the testing and training sets\n",
    "    X_train, X_test, y_train, y_test = train_test_split(X, labels, test_size=0.2)\n",
    "    return X_train, X_test, y_train, y_test\n",
    "\n",
    "X_train, X_test, y_train, y_test = preprocess('imdb_labelled.txt')"
   ]
  },
  {
   "cell_type": "markdown",
   "metadata": {},
   "source": [
    "## Modeling\n",
    "We can train the models with the training set, let the models to classify the testing set, and rate the models' performances by checking its accuracy score and time consumption. Here is the code for the classification:"
   ]
  },
  {
   "cell_type": "code",
   "execution_count": 2,
   "metadata": {},
   "outputs": [],
   "source": [
    "from sklearn.metrics import accuracy_score\n",
    "from sklearn.metrics import plot_confusion_matrix\n",
    "from matplotlib import pyplot as plt\n",
    "from time import time\n",
    "\n",
    "def classify(clf, todense=False):\n",
    "    '''to classify the data using machine learning models\n",
    "    \n",
    "    Args:\n",
    "        clf: the model chosen to analyze the data\n",
    "        todense(bool): whether to make the sparse matrix dense\n",
    "        \n",
    "    '''\n",
    "    global X_train, X_test, y_train, y_test\n",
    "    t = time()\n",
    "    if todense:\n",
    "        clf.fit(X_train.todense(), y_train)\n",
    "        y_pred = clf.predict(X_test.todense())\n",
    "    else:\n",
    "        clf.fit(X_train, y_train)\n",
    "        y_pred = clf.predict(X_test)\n",
    "    print(f'Time cost of {str(clf)}: {round(time()-t,2)}s\\nThe accuracy of {str(clf)}: {accuracy_score(y_test,y_pred)}\\n')"
   ]
  },
  {
   "cell_type": "markdown",
   "metadata": {},
   "source": [
    "Because the target is categorical and dichotomous, the features do not have assumed distribution, the models we can use for text classification are Logistics Regression, Stochastic Gradient Descent Classifier (SGDClassifier), Support Vector Classifier (SVC) and Neural Network (MLPClassifier). Because our feature data is sparse, SVC and SGD are useful. Among 3 types of Naive Bayes Classifiers (Bernoulli, Multinomial and Gaussian), we need to choose Multinomial, because the features are normalized by TF-IDF. The features do not fit Gaussian nor Bernoulli distribution.\n",
    "\n",
    "I will examine the performance of each selected model below. In this part, I will not tune the parameters for each model, but will do it in future.\n",
    "\n",
    "We can technically use Linear Driscriminant Analysis too. However, it is computationally expensive to calculate sparse matrices like our feature data. The accuracy of this model is also low. Therefore, we will not consider LDA this time. Here is the performance of LDA"
   ]
  },
  {
   "cell_type": "code",
   "execution_count": 3,
   "metadata": {},
   "outputs": [
    {
     "name": "stdout",
     "output_type": "stream",
     "text": [
      "Time cost of LinearDiscriminantAnalysis(): 0.79s\n",
      "The accuracy of LinearDiscriminantAnalysis(): 0.71\n",
      "\n"
     ]
    }
   ],
   "source": [
    "from sklearn.discriminant_analysis import LinearDiscriminantAnalysis\n",
    "classify(LinearDiscriminantAnalysis(),todense=True)"
   ]
  },
  {
   "cell_type": "markdown",
   "metadata": {},
   "source": [
    "Here are the performances of the selected models:"
   ]
  },
  {
   "cell_type": "code",
   "execution_count": 4,
   "metadata": {},
   "outputs": [
    {
     "name": "stdout",
     "output_type": "stream",
     "text": [
      "Time cost of LogisticRegression(): 0.03s\n",
      "The accuracy of LogisticRegression(): 0.825\n",
      "\n",
      "Time cost of MultinomialNB(): 0.0s\n",
      "The accuracy of MultinomialNB(): 0.825\n",
      "\n",
      "Time cost of SVC(): 0.09s\n",
      "The accuracy of SVC(): 0.835\n",
      "\n",
      "Time cost of SGDClassifier(): 0.0s\n",
      "The accuracy of SGDClassifier(): 0.82\n",
      "\n",
      "Time cost of MLPClassifier(): 3.47s\n",
      "The accuracy of MLPClassifier(): 0.81\n",
      "\n"
     ]
    }
   ],
   "source": [
    "from sklearn.linear_model import LogisticRegression\n",
    "from sklearn.naive_bayes import MultinomialNB\n",
    "from sklearn.svm import SVC\n",
    "from sklearn.linear_model import SGDClassifier\n",
    "from sklearn.neural_network import MLPClassifier\n",
    "for model in [LogisticRegression(), MultinomialNB(), SVC(), SGDClassifier(), MLPClassifier()]:\n",
    "    classify(model)"
   ]
  },
  {
   "cell_type": "markdown",
   "metadata": {},
   "source": [
    "## Ensemble Learning\n",
    "While we want to improve the accuracy of our models' prediction, we also want overfitting avoided, so that we can use the models to predict other datasets. Building an ensemble method is the solution to this problem. For each review, we are going to let every selected model vote for its own prediction, and take the mode of all votes to generate an ensemble prediction. The selected models are Logistic Regression, MultinomialNB, SVC and SGD. Because Neural Networks need complicated tuning and are time-consuming, I will not include MLPClassifier into this ensembel Learning. From the accuracy score and the confusion matrix below, we can see that, though the time cost increased, the performance of the ensemble model is satisfactory."
   ]
  },
  {
   "cell_type": "code",
   "execution_count": 5,
   "metadata": {},
   "outputs": [
    {
     "name": "stdout",
     "output_type": "stream",
     "text": [
      "Time cost: 0.12s\n",
      "Accuracy: 0.83\n",
      "\n"
     ]
    },
    {
     "data": {
      "image/png": "[encoded data removed]",
      "text/plain": [
       "<Figure size 432x288 with 2 Axes>"
      ]
     },
     "metadata": {
      "needs_background": "light"
     },
     "output_type": "display_data"
    }
   ],
   "source": [
    "from statistics import mode\n",
    "def ensemble(models):\n",
    "    '''to ensemble the models and classify the data based on each model's vote\n",
    "    \n",
    "    Args:\n",
    "        models: the list of models chosen to analyze the data\n",
    "        \n",
    "    '''\n",
    "    global X_train, X_test, y_train, y_test\n",
    "    t = time()\n",
    "    # iterate through all the models and collect all their predictions\n",
    "    y_preds = []\n",
    "    for clf in models:\n",
    "        clf.fit(X_train, y_train)\n",
    "        y_preds.append(clf.predict(X_test))\n",
    "    \n",
    "    # Count their votes and get the mode of each prediction as the decision\n",
    "    y_pred = []\n",
    "    for i in range(len(y_preds[0])):\n",
    "        y_pred.append(mode([y[i] for y in y_preds]))\n",
    "    print(f'Time cost: {round(time()-t,2)}s\\nAccuracy: {accuracy_score(y_test,y_pred)}\\n')\n",
    "    plot_confusion_matrix(clf, X_test, y_test, values_format = 'd',display_labels=['positive','negative'])\n",
    "\n",
    "ensemble([LogisticRegression(),MultinomialNB(),SVC(),SGDClassifier()])"
   ]
  }
 ],
 "metadata": {
  "kernelspec": {
   "display_name": "Python 3",
   "language": "python",
   "name": "python3"
  },
  "language_info": {
   "codemirror_mode": {
    "name": "ipython",
    "version": 3
   },
   "file_extension": ".py",
   "mimetype": "text/x-python",
   "name": "python",
   "nbconvert_exporter": "python",
   "pygments_lexer": "ipython3",
   "version": "3.9.0"
  }
 },
 "nbformat": 4,
 "nbformat_minor": 4
}
