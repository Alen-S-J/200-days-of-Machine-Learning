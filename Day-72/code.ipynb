{
 "cells": [
  {
   "cell_type": "code",
   "execution_count": 6,
   "metadata": {},
   "outputs": [],
   "source": [
    "import numpy as np\n",
    "\n",
    "# Define the MDP\n",
    "# Example: Gridworld with states, actions, transitions, rewards, and gamma (discount factor)\n",
    "states = ['S1', 'S2', 'S3']\n",
    "actions = ['up', 'down', 'left', 'right']\n",
    "transitions = {\n",
    "    'S1': {\n",
    "        'up': {'S1': 0.8, 'S2': 0.1, 'S3': 0.1},\n",
    "        'down': {'S1': 0.2, 'S2': 0.3, 'S3': 0.5},\n",
    "        'left': {'S1': 0.5, 'S2': 0.2, 'S3': 0.3},\n",
    "        'right': {'S1': 0.1, 'S2': 0.7, 'S3': 0.2},\n",
    "    },\n",
    "    'S2': {\n",
    "        'up': {'S1': 0.3, 'S2': 0.4, 'S3': 0.3},\n",
    "        'down': {'S1': 0.1, 'S2': 0.2, 'S3': 0.7},\n",
    "        'left': {'S1': 0.6, 'S2': 0.1, 'S3': 0.3},\n",
    "        'right': {'S1': 0.4, 'S2': 0.5, 'S3': 0.1},\n",
    "    },\n",
    "    'S3': {\n",
    "        'up': {'S1': 0.5, 'S2': 0.3, 'S3': 0.2},\n",
    "        'down': {'S1': 0.4, 'S2': 0.1, 'S3': 0.5},\n",
    "        'left': {'S1': 0.2, 'S2': 0.6, 'S3': 0.2},\n",
    "        'right': {'S1': 0.3, 'S2': 0.4, 'S3': 0.3},\n",
    "    },\n",
    "    # Define transitions for other states similarly\n",
    "}\n",
    "\n",
    "rewards = {\n",
    "    'S1': {\n",
    "        'up': {'S1': 0, 'S2': 1, 'S3': -1},\n",
    "        'down': {'S1': 0, 'S2': -1, 'S3': 1},\n",
    "        'left': {'S1': 0, 'S2': 0, 'S3': 0},\n",
    "        'right': {'S1': 0, 'S2': 0, 'S3': 0},\n",
    "    },\n",
    "    'S2': {\n",
    "        'up': {'S1': 1, 'S2': -1, 'S3': 0},\n",
    "        'down': {'S1': 0, 'S2': 0, 'S3': 1},\n",
    "        'left': {'S1': -1, 'S2': 0, 'S3': 0},\n",
    "        'right': {'S1': 0, 'S2': 1, 'S3': -1},\n",
    "    },\n",
    "    'S3': {\n",
    "        'up': {'S1': -1, 'S2': 0, 'S3': 1},\n",
    "        'down': {'S1': 0, 'S2': 1, 'S3': -1},\n",
    "        'left': {'S1': 0, 'S2': -1, 'S3': 1},\n",
    "        'right': {'S1': 1, 'S2': 0, 'S3': 0},\n",
    "    },\n",
    "    # Define rewards for other states similarly\n",
    "}\n",
    "\n",
    "\n",
    "gamma = 0.9  # Discount factor"
   ]
  },
  {
   "cell_type": "code",
   "execution_count": 7,
   "metadata": {},
   "outputs": [
    {
     "name": "stdout",
     "output_type": "stream",
     "text": [
      "Final State Values:\n",
      "S1: 3.838\n",
      "S2: 4.317\n",
      "S3: 3.959\n"
     ]
    }
   ],
   "source": [
    "# Define functions to compute the Bellman Expectation Equation for state values\n",
    "def bellman_expectation(state_values, state, action):\n",
    "    value = 0\n",
    "    for next_state in transitions[state][action]:\n",
    "        transition_prob = transitions[state][action][next_state]\n",
    "        reward = rewards[state][action][next_state]\n",
    "        value += transition_prob * (reward + gamma * state_values[next_state])\n",
    "    return value\n",
    "\n",
    "# Initialize state values arbitrarily\n",
    "state_values = {state: np.random.random() for state in states}\n",
    "\n",
    "# Value iteration to calculate state values\n",
    "num_iterations = 100\n",
    "for i in range(num_iterations):\n",
    "    new_state_values = state_values.copy()\n",
    "    for state in states:\n",
    "        values = [bellman_expectation(state_values, state, action) for action in actions]\n",
    "        new_state_values[state] = max(values)  # Update state value\n",
    "    state_values = new_state_values\n",
    "\n",
    "# Print the final state values\n",
    "print(\"Final State Values:\")\n",
    "for state, value in state_values.items():\n",
    "    print(f\"{state}: {value:.3f}\")"
   ]
  }
 ],
 "metadata": {
  "kernelspec": {
   "display_name": "Python 3",
   "language": "python",
   "name": "python3"
  },
  "language_info": {
   "codemirror_mode": {
    "name": "ipython",
    "version": 3
   },
   "file_extension": ".py",
   "mimetype": "text/x-python",
   "name": "python",
   "nbconvert_exporter": "python",
   "pygments_lexer": "ipython3",
   "version": "3.11.5"
  }
 },
 "nbformat": 4,
 "nbformat_minor": 2
}
