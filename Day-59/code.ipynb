{
 "cells": [
  {
   "cell_type": "code",
   "execution_count": 3,
   "metadata": {},
   "outputs": [],
   "source": [
    "import pandas as pd\n",
    "import tensorflow as tf"
   ]
  },
  {
   "cell_type": "code",
   "execution_count": 4,
   "metadata": {},
   "outputs": [],
   "source": [
    "# Example experimental data\n",
    "experimental_data = {\n",
    "    'Experiment_ID': [1, 2, 3, 4],\n",
    "    'Hyperparameters': ['LR=0.01, Batch=32', 'LR=0.001, Batch=64', 'LR=0.005, Batch=128', 'LR=0.01, Batch=128'],\n",
    "    'Model_Architecture': ['LSTM (32 units)', 'GRU (64 units)', 'LSTM (128 units)', 'SimpleRNN (128 units)'],\n",
    "    'Training_Techniques': ['Dropout=0.2, Regularization', 'Dropout=0.4', 'Regularization', 'Early Stopping'],\n",
    "    'Accuracy': [0.82, 0.78, 0.85, 0.79],\n",
    "    'Loss': [0.45, 0.51, 0.39, 0.48],\n",
    "    'Convergence_Speed': ['Medium', 'Slow', 'Fast', 'Medium']\n",
    "}\n"
   ]
  },
  {
   "cell_type": "code",
   "execution_count": 5,
   "metadata": {},
   "outputs": [],
   "source": [
    "# Create a DataFrame with experimental data\n",
    "experiment_df = pd.DataFrame(experimental_data)"
   ]
  },
  {
   "cell_type": "code",
   "execution_count": 6,
   "metadata": {},
   "outputs": [
    {
     "name": "stdout",
     "output_type": "stream",
     "text": [
      "Experimental Data:\n",
      "   Experiment_ID      Hyperparameters     Model_Architecture  \\\n",
      "0              1    LR=0.01, Batch=32        LSTM (32 units)   \n",
      "1              2   LR=0.001, Batch=64         GRU (64 units)   \n",
      "2              3  LR=0.005, Batch=128       LSTM (128 units)   \n",
      "3              4   LR=0.01, Batch=128  SimpleRNN (128 units)   \n",
      "\n",
      "           Training_Techniques  Accuracy  Loss Convergence_Speed  \n",
      "0  Dropout=0.2, Regularization      0.82  0.45            Medium  \n",
      "1                  Dropout=0.4      0.78  0.51              Slow  \n",
      "2               Regularization      0.85  0.39              Fast  \n",
      "3               Early Stopping      0.79  0.48            Medium  \n"
     ]
    }
   ],
   "source": [
    "# Display the experimental data\n",
    "print(\"Experimental Data:\")\n",
    "print(experiment_df)"
   ]
  },
  {
   "cell_type": "code",
   "execution_count": 7,
   "metadata": {},
   "outputs": [],
   "source": [
    "# TensorFlow operations (example: defining a simple neural network)\n",
    "model = tf.keras.Sequential([\n",
    "    tf.keras.layers.Dense(64, activation='relu', input_shape=(10,)),\n",
    "    tf.keras.layers.Dense(32, activation='relu'),\n",
    "    tf.keras.layers.Dense(1, activation='sigmoid')\n",
    "])"
   ]
  },
  {
   "cell_type": "code",
   "execution_count": 8,
   "metadata": {},
   "outputs": [
    {
     "name": "stdout",
     "output_type": "stream",
     "text": [
      "Epoch 1/5\n",
      "32/32 [==============================] - 3s 4ms/step - loss: 0.6969 - accuracy: 0.0000e+00\n",
      "Epoch 2/5\n",
      "32/32 [==============================] - 0s 3ms/step - loss: 0.6931 - accuracy: 0.0000e+00\n",
      "Epoch 3/5\n",
      "32/32 [==============================] - 0s 3ms/step - loss: 0.6928 - accuracy: 0.0000e+00\n",
      "Epoch 4/5\n",
      "32/32 [==============================] - 0s 4ms/step - loss: 0.6927 - accuracy: 0.0000e+00\n",
      "Epoch 5/5\n",
      "32/32 [==============================] - 0s 4ms/step - loss: 0.6923 - accuracy: 0.0000e+00\n"
     ]
    },
    {
     "data": {
      "text/plain": [
       "<keras.src.callbacks.History at 0x27941413810>"
      ]
     },
     "execution_count": 8,
     "metadata": {},
     "output_type": "execute_result"
    }
   ],
   "source": [
    "# Compiling the model\n",
    "model.compile(optimizer='adam', loss='binary_crossentropy', metrics=['accuracy'])\n",
    "\n",
    "# Training the model (example: using fake data)\n",
    "fake_data = tf.random.uniform((1000, 10))\n",
    "fake_labels = tf.random.uniform((1000, 1))\n",
    "model.fit(fake_data, fake_labels, epochs=5, batch_size=32)\n"
   ]
  },
  {
   "cell_type": "code",
   "execution_count": 9,
   "metadata": {},
   "outputs": [
    {
     "name": "stdout",
     "output_type": "stream",
     "text": [
      "\n",
      "Mean Accuracy: 0.81\n",
      "Minimum Loss: 0.39\n",
      "Max Convergence Speed: Slow\n",
      "\n",
      "Best Accuracy Configuration:\n",
      "Experiment_ID                            3\n",
      "Hyperparameters        LR=0.005, Batch=128\n",
      "Model_Architecture        LSTM (128 units)\n",
      "Training_Techniques         Regularization\n",
      "Accuracy                              0.85\n",
      "Loss                                  0.39\n",
      "Convergence_Speed                     Fast\n",
      "Name: 2, dtype: object\n",
      "\n",
      "High Accuracy & Fast Convergence Speed Configurations:\n",
      "   Experiment_ID      Hyperparameters Model_Architecture Training_Techniques  \\\n",
      "2              3  LR=0.005, Batch=128   LSTM (128 units)      Regularization   \n",
      "\n",
      "   Accuracy  Loss Convergence_Speed  \n",
      "2      0.85  0.39              Fast  \n"
     ]
    }
   ],
   "source": [
    "# Analyzing performance metrics\n",
    "mean_accuracy = experiment_df['Accuracy'].mean()\n",
    "min_loss = experiment_df['Loss'].min()\n",
    "max_convergence_speed = experiment_df['Convergence_Speed'].max()\n",
    "\n",
    "print(f\"\\nMean Accuracy: {mean_accuracy}\")\n",
    "print(f\"Minimum Loss: {min_loss}\")\n",
    "print(f\"Max Convergence Speed: {max_convergence_speed}\")\n",
    "\n",
    "# Comparing and evaluating results\n",
    "best_accuracy = experiment_df.loc[experiment_df['Accuracy'].idxmax()]\n",
    "print(\"\\nBest Accuracy Configuration:\")\n",
    "print(best_accuracy)\n",
    "\n",
    "# Insights and conclusions\n",
    "# Example: Identify configurations with accuracy > 0.8 and convergence speed as 'Fast'\n",
    "high_accuracy_fast_speed = experiment_df[\n",
    "    (experiment_df['Accuracy'] > 0.8) & (experiment_df['Convergence_Speed'] == 'Fast')\n",
    "]\n",
    "print(\"\\nHigh Accuracy & Fast Convergence Speed Configurations:\")\n",
    "print(high_accuracy_fast_speed)\n"
   ]
  }
 ],
 "metadata": {
  "kernelspec": {
   "display_name": "Python 3",
   "language": "python",
   "name": "python3"
  },
  "language_info": {
   "codemirror_mode": {
    "name": "ipython",
    "version": 3
   },
   "file_extension": ".py",
   "mimetype": "text/x-python",
   "name": "python",
   "nbconvert_exporter": "python",
   "pygments_lexer": "ipython3",
   "version": "3.11.5"
  }
 },
 "nbformat": 4,
 "nbformat_minor": 2
}
