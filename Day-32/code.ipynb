{
 "cells": [
  {
   "cell_type": "code",
   "execution_count": 35,
   "metadata": {},
   "outputs": [],
   "source": [
    "import numpy as np$$n",
    "import tensorflow as tf$$n",
    "from tensorflow import keras$$n",
    "from tensorflow.keras import layers"
   ]
  },
  {
   "cell_type": "code",
   "execution_count": 36,
   "metadata": {},
   "outputs": [],
   "source": [
    "X = np.array([[0, 0], [0, 1], [1, 0], [1, 1]])$$n",
    "y = np.array([0, 1, 1, 0])"
   ]
  },
  {
   "cell_type": "code",
   "execution_count": 37,
   "metadata": {},
   "outputs": [],
   "source": [
    "model = keras.Sequential()"
   ]
  },
  {
   "cell_type": "code",
   "execution_count": 38,
   "metadata": {},
   "outputs": [],
   "source": [
    "# Add an Input Layer (2 input neurons, since our input data has 2 features)$$n",
    "model.add(layers.Input(shape=(2,)))$$n",
    "$$n",
    "# Add a Hidden Layer with 4 neurons and ReLU activation function$$n",
    "model.add(layers.Dense(4, activation='relu'))$$n",
    "$$n",
    "# Add the Output Layer with 1 neuron and a Sigmoid activation function for binary classification$$n",
    "model.add(layers.Dense(1, activation='sigmoid'))$$n",
    "$$n",
    "# Compile the model, specifying the loss function, optimizer, and metrics$$n",
    "model.compile(optimizer='adam', loss='binary_crossentropy', metrics=['accuracy'])"
   ]
  },
  {
   "cell_type": "code",
   "execution_count": 39,
   "metadata": {},
   "outputs": [
    {
     "data": {
      "text/plain": [
       "<keras.src.callbacks.History at 0x15c3e13a810>"
      ]
     },
     "execution_count": 39,
     "metadata": {},
     "output_type": "execute_result"
    }
   ],
   "source": [
    "model.fit(X, y, epochs=1000, verbose=0)"
   ]
  },
  {
   "cell_type": "code",
   "execution_count": 40,
   "metadata": {},
   "outputs": [
    {
     "name": "stdout",
     "output_type": "stream",
     "text": [
      "1/1 [==============================] - 3s 3s/step - loss: 0.6932 - accuracy: 0.5000$$n",
      "Loss: 0.6932299733161926, Accuracy: 0.5$$n"
     ]
    }
   ],
   "source": [
    "# Evaluate the model$$n",
    "loss, accuracy = model.evaluate(X, y)$$n",
    "print(f$$"Loss: {loss}, Accuracy: {accuracy}$$")"
   ]
  },
  {
   "cell_type": "code",
   "execution_count": 41,
   "metadata": {},
   "outputs": [
    {
     "name": "stdout",
     "output_type": "stream",
     "text": [
      "1/1 [==============================] - 0s 81ms/step$$n",
      "Predictions:$$n",
      "Input: [0 0], Prediction: 0.49$$n",
      "Input: [0 1], Prediction: 0.49$$n",
      "Input: [1 0], Prediction: 0.51$$n",
      "Input: [1 1], Prediction: 0.51$$n"
     ]
    }
   ],
   "source": [
    "# Make predictions$$n",
    "predictions = model.predict(X)$$n",
    "print($$"Predictions:$$")$$n",
    "for i in range(len(X)):$$n",
    "    print(f$$"Input: {X[i]}, Prediction: {predictions[i][0]:.2f}$$")"
   ]
  },
  {
   "cell_type": "code",
   "execution_count": 44,
   "metadata": {},
   "outputs": [
    {
     "name": "stderr",
     "output_type": "stream",
     "text": [
      "c:$$$$Users$$$$alans$$$$AppData$$$$Local$$$$Programs$$$$Python$$$$Python311$$$$Lib$$$$site-packages$$$$keras$$$$src$$$$engine$$$$training.py:3079: UserWarning: You are saving your model as an HDF5 file via `model.save()`. This file format is considered legacy. We recommend using instead the native Keras format, e.g. `model.save('my_model.keras')`.$$n",
      "  saving_api.save_model($$n"
     ]
    }
   ],
   "source": [
    "model.save('my_model.h5') "
   ]
  },
  {
   "cell_type": "code",
   "execution_count": 45,
   "metadata": {},
   "outputs": [
    {
     "name": "stdout",
     "output_type": "stream",
     "text": [
      "1/1 [==============================] - 0s 84ms/step$$n",
      "Test Data Predictions:$$n",
      "Input: [0 0], Prediction: 0.49$$n",
      "Input: [0 1], Prediction: 0.49$$n",
      "Input: [1 0], Prediction: 0.51$$n",
      "Input: [1 1], Prediction: 0.51$$n"
     ]
    }
   ],
   "source": [
    "# Load the trained model (assuming you've already trained it)$$n",
    "from tensorflow import keras$$n",
    "model = keras.models.load_model('my_model.h5')  # Replace with the path to your trained model$$n",
    "$$n",
    "# Create a test dataset$$n",
    "X_test = np.array([[0, 0], [0, 1], [1, 0], [1, 1]])$$n",
    "$$n",
    "# Make predictions on the test data$$n",
    "predictions = model.predict(X_test)$$n",
    "$$n",
    "# Display the predictions$$n",
    "print($$"Test Data Predictions:$$")$$n",
    "for i in range(len(X_test)):$$n",
    "    print(f$$"Input: {X_test[i]}, Prediction: {predictions[i][0]:.2f}$$")"
   ]
  }
 ],
 "metadata": {
  "kernelspec": {
   "display_name": "Python 3",
   "language": "python",
   "name": "python3"
  },
  "language_info": {
   "codemirror_mode": {
    "name": "ipython",
    "version": 3
   },
   "file_extension": ".py",
   "mimetype": "text/x-python",
   "name": "python",
   "nbconvert_exporter": "python",
   "pygments_lexer": "ipython3",
   "version": "3.11.5"
  }
 },
 "nbformat": 4,
 "nbformat_minor": 2
}
